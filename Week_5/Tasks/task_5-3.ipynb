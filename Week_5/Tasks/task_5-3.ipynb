{
 "cells": [
  {
   "cell_type": "code",
   "execution_count": 2,
   "metadata": {},
   "outputs": [
    {
     "name": "stdout",
     "output_type": "stream",
     "text": [
      "Populating the interactive namespace from numpy and matplotlib\n"
     ]
    }
   ],
   "source": [
    "from sklearn import datasets, model_selection, ensemble, metrics, neighbors\n",
    "import numpy as np\n",
    "import pylab as plb\n",
    "%pylab inline"
   ]
  },
  {
   "cell_type": "code",
   "execution_count": 3,
   "metadata": {},
   "outputs": [],
   "source": [
    "digits = datasets.load_digits()\n",
    "X = digits.data\n",
    "y = digits.target"
   ]
  },
  {
   "cell_type": "code",
   "execution_count": 29,
   "metadata": {},
   "outputs": [],
   "source": [
    "a, b = np.arange(16).reshape((8, 2)), range(8)"
   ]
  },
  {
   "cell_type": "code",
   "execution_count": 30,
   "metadata": {},
   "outputs": [
    {
     "data": {
      "text/plain": [
       "array([[ 0,  1],\n",
       "       [ 2,  3],\n",
       "       [ 4,  5],\n",
       "       [ 6,  7],\n",
       "       [ 8,  9],\n",
       "       [10, 11],\n",
       "       [12, 13],\n",
       "       [14, 15]])"
      ]
     },
     "execution_count": 30,
     "metadata": {},
     "output_type": "execute_result"
    }
   ],
   "source": [
    "a"
   ]
  },
  {
   "cell_type": "code",
   "execution_count": 31,
   "metadata": {},
   "outputs": [
    {
     "data": {
      "text/plain": [
       "range(0, 8)"
      ]
     },
     "execution_count": 31,
     "metadata": {},
     "output_type": "execute_result"
    }
   ],
   "source": [
    "b"
   ]
  },
  {
   "cell_type": "code",
   "execution_count": 38,
   "metadata": {
    "scrolled": true
   },
   "outputs": [],
   "source": [
    "a_train, a_test, b_train, b_test = model_selection.train_test_split(a, b, test_size=0.3)\n",
    "a_size = int(len(b) * 0.25)\n",
    "a_train, a_test, b_train, b_test = (\n",
    "  a[:-a_size], a[-a_size:],\n",
    "  b[:-a_size], b[-a_size:])"
   ]
  },
  {
   "cell_type": "code",
   "execution_count": 39,
   "metadata": {},
   "outputs": [
    {
     "data": {
      "text/plain": [
       "array([[ 0,  1],\n",
       "       [ 2,  3],\n",
       "       [ 4,  5],\n",
       "       [ 6,  7],\n",
       "       [ 8,  9],\n",
       "       [10, 11]])"
      ]
     },
     "execution_count": 39,
     "metadata": {},
     "output_type": "execute_result"
    }
   ],
   "source": [
    "a_train"
   ]
  },
  {
   "cell_type": "code",
   "execution_count": 40,
   "metadata": {
    "scrolled": true
   },
   "outputs": [
    {
     "data": {
      "text/plain": [
       "array([[12, 13],\n",
       "       [14, 15]])"
      ]
     },
     "execution_count": 40,
     "metadata": {},
     "output_type": "execute_result"
    }
   ],
   "source": [
    "a_test"
   ]
  },
  {
   "cell_type": "code",
   "execution_count": 18,
   "metadata": {},
   "outputs": [],
   "source": [
    "X_train, X_test, y_train, y_test = model_selection.train_test_split(X, y, test_size=0.25, random_state=2)"
   ]
  },
  {
   "cell_type": "code",
   "execution_count": 41,
   "metadata": {},
   "outputs": [],
   "source": [
    "test_size = int(len(y) * 0.25)\n",
    "X_train, X_test, y_train, y_test = (\n",
    "  X[:-test_size], X[-test_size:],\n",
    "  y[:-test_size], y[-test_size:])"
   ]
  },
  {
   "cell_type": "code",
   "execution_count": null,
   "metadata": {
    "collapsed": true
   },
   "outputs": [],
   "source": [
    "можно для каждого классифицируемого объекта составлять список пар \n",
    "(расстояние до точки из обучающей выборки, метка класса в этой точке), \n",
    "затем сортировать этот список \n",
    "(по умолчанию сортировка будет сначала по первому элементу пары, затем по второму), \n",
    "а затем брать первый элемент (с наименьшим расстоянием)."
   ]
  },
  {
   "cell_type": "code",
   "execution_count": 42,
   "metadata": {},
   "outputs": [
    {
     "name": "stdout",
     "output_type": "stream",
     "text": [
      "0.03786191536748329\n"
     ]
    }
   ],
   "source": [
    "KNN = neighbors.KNeighborsClassifier(n_neighbors = 1)\n",
    "KNN.fit(X_train, y_train)\n",
    "num1 = 1 - metrics.accuracy_score(y_test, KNN.predict(X_test))\n",
    "print (num1)\n",
    "# num1 = metrics.mean_absolute_error(y_test, KNN.predict(X_test))"
   ]
  },
  {
   "cell_type": "code",
   "execution_count": 45,
   "metadata": {},
   "outputs": [],
   "source": [
    "X1 = KNN.predict(X_test)"
   ]
  },
  {
   "cell_type": "code",
   "execution_count": 46,
   "metadata": {},
   "outputs": [
    {
     "name": "stdout",
     "output_type": "stream",
     "text": [
      "0.0378619153674833\n"
     ]
    }
   ],
   "source": [
    "num1 = 0\n",
    "for i in range(len(y_test)):\n",
    "    if (X1[i] != y_test[i]):\n",
    "        num1 += 1\n",
    "num1 /= float(len(y_test))\n",
    "print (num1)"
   ]
  },
  {
   "cell_type": "code",
   "execution_count": 47,
   "metadata": {},
   "outputs": [
    {
     "name": "stdout",
     "output_type": "stream",
     "text": [
      "0.0378619153674833\n"
     ]
    }
   ],
   "source": [
    "with open(\"1.txt\", \"w\") as fout:\n",
    "    fout.write(str(num1))\n",
    "print (num1)"
   ]
  },
  {
   "cell_type": "code",
   "execution_count": 48,
   "metadata": {},
   "outputs": [],
   "source": [
    "m = len(y_train)"
   ]
  },
  {
   "cell_type": "code",
   "execution_count": 49,
   "metadata": {},
   "outputs": [],
   "source": [
    "def oneNN(x):\n",
    "    pair = np.zeros((m, 2))\n",
    "    for i in range(m):\n",
    "        pair[i][0] = np.linalg.norm(x - X_train[i])\n",
    "        pair[i][1] = y_train[i]\n",
    "    pair = sorted(pair, key = lambda t: (t[0],t[1]))\n",
    "    return pair[0][1]"
   ]
  },
  {
   "cell_type": "code",
   "execution_count": 50,
   "metadata": {
    "scrolled": false
   },
   "outputs": [
    {
     "data": {
      "text/plain": [
       "4.0"
      ]
     },
     "execution_count": 50,
     "metadata": {},
     "output_type": "execute_result"
    }
   ],
   "source": [
    "oneNN(X_test[3])"
   ]
  },
  {
   "cell_type": "code",
   "execution_count": 51,
   "metadata": {
    "scrolled": true
   },
   "outputs": [
    {
     "data": {
      "text/plain": [
       "4"
      ]
     },
     "execution_count": 51,
     "metadata": {},
     "output_type": "execute_result"
    }
   ],
   "source": [
    "y_test[3]"
   ]
  },
  {
   "cell_type": "code",
   "execution_count": 52,
   "metadata": {},
   "outputs": [
    {
     "name": "stdout",
     "output_type": "stream",
     "text": [
      "0.0378619153674833\n"
     ]
    }
   ],
   "source": [
    "num1 = 0\n",
    "for i in range(len(y_test)):\n",
    "    if (oneNN(X_test[i]) != y_test[i]):\n",
    "        num1 += 1\n",
    "num1 /= float(len(y_test))\n",
    "\n",
    "print (num1)"
   ]
  },
  {
   "cell_type": "code",
   "execution_count": 53,
   "metadata": {},
   "outputs": [
    {
     "name": "stdout",
     "output_type": "stream",
     "text": [
      "0.07126948775055675\n"
     ]
    }
   ],
   "source": [
    "rf_classifier = ensemble.RandomForestClassifier(n_estimators = 1000)\n",
    "rf_classifier.fit(X_train, y_train)\n",
    "num2 = 1 - metrics.accuracy_score(y_test, rf_classifier.predict(X_test))\n",
    "with open(\"2.txt\", \"w\") as fout:\n",
    "    fout.write(str(num2))\n",
    "print (num2)"
   ]
  },
  {
   "cell_type": "code",
   "execution_count": 55,
   "metadata": {},
   "outputs": [],
   "source": [
    "X2 = rf_classifier.predict(X_test)"
   ]
  },
  {
   "cell_type": "code",
   "execution_count": 56,
   "metadata": {},
   "outputs": [
    {
     "name": "stdout",
     "output_type": "stream",
     "text": [
      "0.07126948775055679\n"
     ]
    }
   ],
   "source": [
    "num2 = 0\n",
    "for i in range(len(y_test)):\n",
    "    if (X2[i] != y_test[i]):\n",
    "        num2 += 1\n",
    "num2 /= float(len(y_test))\n",
    "# num2 = (y_test, rf_classifier.predict(X_test))\n",
    "\n",
    "print (num2)"
   ]
  }
 ],
 "metadata": {
  "kernelspec": {
   "display_name": "Python 3",
   "language": "python",
   "name": "python3"
  },
  "language_info": {
   "codemirror_mode": {
    "name": "ipython",
    "version": 3
   },
   "file_extension": ".py",
   "mimetype": "text/x-python",
   "name": "python",
   "nbconvert_exporter": "python",
   "pygments_lexer": "ipython3",
   "version": "3.6.5"
  }
 },
 "nbformat": 4,
 "nbformat_minor": 2
}
