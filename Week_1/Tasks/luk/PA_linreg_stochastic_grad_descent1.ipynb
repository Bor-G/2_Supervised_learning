{
 "cells": [
  {
   "cell_type": "markdown",
   "metadata": {},
   "source": [
    "# Линейная регрессия и стохастический градиентный спуск"
   ]
  },
  {
   "cell_type": "markdown",
   "metadata": {},
   "source": [
    "Задание основано на материалах лекций по линейной регрессии и градиентному спуску. Вы будете прогнозировать выручку компании в зависимости от уровня ее инвестиций в рекламу по TV, в газетах и по радио."
   ]
  },
  {
   "cell_type": "markdown",
   "metadata": {},
   "source": [
    "## Вы научитесь:\n",
    "- решать задачу восстановления линейной регрессии\n",
    "- реализовывать стохастический градиентный спуск для ее настройки\n",
    "- решать задачу линейной регрессии аналитически"
   ]
  },
  {
   "cell_type": "markdown",
   "metadata": {},
   "source": [
    "## Введение\n",
    "Линейная регрессия - один из наиболее хорошо изученных методов машинного обучения, позволяющий прогнозировать значения количественного признака в виде линейной комбинации прочих признаков с параметрами - весами модели. Оптимальные (в смысле минимальности некоторого функционала ошибки) параметры линейной регрессии можно найти аналитически с помощью нормального уравнения или численно с помощью методов оптимизации.  "
   ]
  },
  {
   "cell_type": "markdown",
   "metadata": {},
   "source": [
    "Линейная регрессия использует простой функционал качества - среднеквадратичную ошибку. Мы будем работать с выборкой, содержащей 3 признака. Для настройки параметров (весов) модели решается следующая задача:\n",
    "$$\\Large \\frac{1}{\\ell}\\sum_{i=1}^\\ell{{((w_0 + w_1x_{i1} + w_2x_{i2} +  w_3x_{i3}) - y_i)}^2} \\rightarrow \\min_{w_0, w_1, w_2, w_3},$$\n",
    "где $x_{i1}, x_{i2}, x_{i3}$ - значения признаков $i$-го объекта, $y_i$ - значение целевого признака $i$-го объекта, $\\ell$ - число объектов в обучающей выборке."
   ]
  },
  {
   "cell_type": "markdown",
   "metadata": {},
   "source": [
    "## Градиентный спуск\n",
    "Параметры $w_0, w_1, w_2, w_3$, по которым минимизируется среднеквадратичная ошибка, можно находить численно с помощью градиентного спуска.\n",
    "Градиентный шаг для весов будет выглядеть следующим образом:\n",
    "$$\\Large w_0 \\leftarrow w_0 - \\frac{2\\eta}{\\ell} \\sum_{i=1}^\\ell{{((w_0 + w_1x_{i1} + w_2x_{i2} +  w_3x_{i3}) - y_i)}}$$\n",
    "$$\\Large w_j \\leftarrow w_j - \\frac{2\\eta}{\\ell} \\sum_{i=1}^\\ell{{x_{ij}((w_0 + w_1x_{i1} + w_2x_{i2} +  w_3x_{i3}) - y_i)}},\\ j \\in \\{1,2,3\\}$$\n",
    "Здесь $\\eta$ - параметр, шаг градиентного спуска."
   ]
  },
  {
   "cell_type": "markdown",
   "metadata": {},
   "source": [
    "## Стохастический градиентный спуск\n",
    "Проблема градиентного спуска, описанного выше, в том, что на больших выборках считать на каждом шаге градиент по всем имеющимся данным может быть очень вычислительно сложно. \n",
    "В стохастическом варианте градиентного спуска поправки для весов вычисляются только с учетом одного случайно взятого объекта обучающей выборки:\n",
    "$$\\Large w_0 \\leftarrow w_0 - \\frac{2\\eta}{\\ell} {((w_0 + w_1x_{k1} + w_2x_{k2} +  w_3x_{k3}) - y_k)}$$\n",
    "$$\\Large w_j \\leftarrow w_j - \\frac{2\\eta}{\\ell} {x_{kj}((w_0 + w_1x_{k1} + w_2x_{k2} +  w_3x_{k3}) - y_k)},\\ j \\in \\{1,2,3\\},$$\n",
    "где $k$ - случайный индекс, $k \\in \\{1, \\ldots, \\ell\\}$."
   ]
  },
  {
   "cell_type": "markdown",
   "metadata": {},
   "source": [
    "## Нормальное уравнение \n",
    "Нахождение вектора оптимальных весов $w$ может быть сделано и аналитически.\n",
    "Мы хотим найти такой вектор весов $w$, чтобы вектор $y$, приближающий целевой признак, получался умножением матрицы $X$ (состоящей из всех признаков объектов обучающей выборки, кроме целевого) на вектор весов $w$. То есть, чтобы выполнялось матричное уравнение:\n",
    "$$\\Large y = Xw$$\n",
    "Домножением слева на $X^T$ получаем:\n",
    "$$\\Large X^Ty = X^TXw$$\n",
    "Это хорошо, поскольку теперь матрица $X^TX$ - квадратная, и можно найти решение (вектор $w$) в виде:\n",
    "$$\\Large w = {(X^TX)}^{-1}X^Ty$$\n",
    "Матрица ${(X^TX)}^{-1}X^T$ - [*псевдообратная*](https://ru.wikipedia.org/wiki/Псевдообратная_матрица) для матрицы $X$. В NumPy такую матрицу можно вычислить с помощью функции [numpy.linalg.pinv](http://docs.scipy.org/doc/numpy-1.10.0/reference/generated/numpy.linalg.pinv.html).\n",
    "\n",
    "Однако, нахождение псевдообратной матрицы - операция вычислительно сложная и нестабильная в случае малого определителя матрицы $X$ (проблема мультиколлинеарности). \n",
    "На практике лучше находить вектор весов $w$ решением матричного уравнения \n",
    "$$\\Large X^TXw = X^Ty$$Это может быть сделано с помощью функции [numpy.linalg.solve](http://docs.scipy.org/doc/numpy-1.10.1/reference/generated/numpy.linalg.solve.html).\n",
    "\n",
    "Но все же на практике для больших матриц $X$ быстрее работает градиентный спуск, особенно его стохастическая версия."
   ]
  },
  {
   "cell_type": "markdown",
   "metadata": {},
   "source": [
    "## Инструкции по выполнению"
   ]
  },
  {
   "cell_type": "markdown",
   "metadata": {},
   "source": [
    "В начале напишем простую функцию для записи ответов в текстовый файл. Ответами будут числа, полученные в ходе решения этого задания, округленные до 3 знаков после запятой. Полученные файлы после выполнения задания надо отправить в форму на странице задания на Coursera.org."
   ]
  },
  {
   "cell_type": "code",
   "execution_count": 1,
   "metadata": {
    "collapsed": true
   },
   "outputs": [],
   "source": [
    "def write_answer_to_file(answer, filename):\n",
    "    with open(filename, 'w') as f_out:\n",
    "        f_out.write(str(round(answer, 3)))"
   ]
  },
  {
   "cell_type": "markdown",
   "metadata": {},
   "source": [
    "**1. Загрузите данные из файла *advertising.csv* в объект pandas DataFrame. [Источник данных](http://www-bcf.usc.edu/~gareth/ISL/data.html).**"
   ]
  },
  {
   "cell_type": "code",
   "execution_count": 2,
   "metadata": {
    "collapsed": false
   },
   "outputs": [],
   "source": [
    "import pandas as pd\n",
    "adver_data = pd.read_csv('advertising.csv')"
   ]
  },
  {
   "cell_type": "code",
   "execution_count": 159,
   "metadata": {
    "collapsed": false
   },
   "outputs": [],
   "source": [
    "adver_data.index = np.arange(0, len(adver_data))"
   ]
  },
  {
   "cell_type": "markdown",
   "metadata": {
    "collapsed": true
   },
   "source": [
    "**Посмотрите на первые 5 записей и на статистику признаков в этом наборе данных.**"
   ]
  },
  {
   "cell_type": "code",
   "execution_count": 160,
   "metadata": {
    "collapsed": false
   },
   "outputs": [
    {
     "data": {
      "text/html": [
       "<div>\n",
       "<table border=\"1\" class=\"dataframe\">\n",
       "  <thead>\n",
       "    <tr style=\"text-align: right;\">\n",
       "      <th></th>\n",
       "      <th>TV</th>\n",
       "      <th>Radio</th>\n",
       "      <th>Newspaper</th>\n",
       "      <th>Sales</th>\n",
       "    </tr>\n",
       "  </thead>\n",
       "  <tbody>\n",
       "    <tr>\n",
       "      <th>0</th>\n",
       "      <td>230.1</td>\n",
       "      <td>37.8</td>\n",
       "      <td>69.2</td>\n",
       "      <td>22.1</td>\n",
       "    </tr>\n",
       "    <tr>\n",
       "      <th>1</th>\n",
       "      <td>44.5</td>\n",
       "      <td>39.3</td>\n",
       "      <td>45.1</td>\n",
       "      <td>10.4</td>\n",
       "    </tr>\n",
       "    <tr>\n",
       "      <th>2</th>\n",
       "      <td>17.2</td>\n",
       "      <td>45.9</td>\n",
       "      <td>69.3</td>\n",
       "      <td>9.3</td>\n",
       "    </tr>\n",
       "    <tr>\n",
       "      <th>3</th>\n",
       "      <td>151.5</td>\n",
       "      <td>41.3</td>\n",
       "      <td>58.5</td>\n",
       "      <td>18.5</td>\n",
       "    </tr>\n",
       "    <tr>\n",
       "      <th>4</th>\n",
       "      <td>180.8</td>\n",
       "      <td>10.8</td>\n",
       "      <td>58.4</td>\n",
       "      <td>12.9</td>\n",
       "    </tr>\n",
       "  </tbody>\n",
       "</table>\n",
       "</div>"
      ],
      "text/plain": [
       "      TV  Radio  Newspaper  Sales\n",
       "0  230.1   37.8       69.2   22.1\n",
       "1   44.5   39.3       45.1   10.4\n",
       "2   17.2   45.9       69.3    9.3\n",
       "3  151.5   41.3       58.5   18.5\n",
       "4  180.8   10.8       58.4   12.9"
      ]
     },
     "execution_count": 160,
     "metadata": {},
     "output_type": "execute_result"
    }
   ],
   "source": [
    "adver_data.head(n=5)"
   ]
  },
  {
   "cell_type": "code",
   "execution_count": 4,
   "metadata": {
    "collapsed": false
   },
   "outputs": [
    {
     "name": "stderr",
     "output_type": "stream",
     "text": [
      "/home/artem/miniconda2/lib/python2.7/site-packages/matplotlib/font_manager.py:273: UserWarning: Matplotlib is building the font cache using fc-list. This may take a moment.\n",
      "  warnings.warn('Matplotlib is building the font cache using fc-list. This may take a moment.')\n"
     ]
    },
    {
     "data": {
      "image/png": "[encoded data removed]",
      "text/plain": [
       "<matplotlib.figure.Figure at 0x7f08e72387d0>"
      ]
     },
     "metadata": {},
     "output_type": "display_data"
    }
   ],
   "source": [
    "import numpy as np\n",
    "import seaborn as sns\n",
    "import matplotlib.pyplot as plt\n",
    "%matplotlib inline\n",
    "sns.pairplot(adver_data)\n",
    "plt.show()"
   ]
  },
  {
   "cell_type": "markdown",
   "metadata": {},
   "source": [
    "**Создайте массивы NumPy *X* из столбцов TV, Radio и Newspaper и *y* - из столбца Sales. Используйте атрибут *values* объекта pandas DataFrame.**"
   ]
  },
  {
   "cell_type": "code",
   "execution_count": 161,
   "metadata": {
    "collapsed": false
   },
   "outputs": [
    {
     "data": {
      "text/plain": [
       "array([[ 230.1,   37.8,   69.2],\n",
       "       [  44.5,   39.3,   45.1],\n",
       "       [  17.2,   45.9,   69.3],\n",
       "       [ 151.5,   41.3,   58.5],\n",
       "       [ 180.8,   10.8,   58.4],\n",
       "       [   8.7,   48.9,   75. ],\n",
       "       [  57.5,   32.8,   23.5],\n",
       "       [ 120.2,   19.6,   11.6],\n",
       "       [   8.6,    2.1,    1. ],\n",
       "       [ 199.8,    2.6,   21.2],\n",
       "       [  66.1,    5.8,   24.2],\n",
       "       [ 214.7,   24. ,    4. ],\n",
       "       [  23.8,   35.1,   65.9],\n",
       "       [  97.5,    7.6,    7.2],\n",
       "       [ 204.1,   32.9,   46. ],\n",
       "       [ 195.4,   47.7,   52.9],\n",
       "       [  67.8,   36.6,  114. ],\n",
       "       [ 281.4,   39.6,   55.8],\n",
       "       [  69.2,   20.5,   18.3],\n",
       "       [ 147.3,   23.9,   19.1],\n",
       "       [ 218.4,   27.7,   53.4],\n",
       "       [ 237.4,    5.1,   23.5],\n",
       "       [  13.2,   15.9,   49.6],\n",
       "       [ 228.3,   16.9,   26.2],\n",
       "       [  62.3,   12.6,   18.3],\n",
       "       [ 262.9,    3.5,   19.5],\n",
       "       [ 142.9,   29.3,   12.6],\n",
       "       [ 240.1,   16.7,   22.9],\n",
       "       [ 248.8,   27.1,   22.9],\n",
       "       [  70.6,   16. ,   40.8],\n",
       "       [ 292.9,   28.3,   43.2],\n",
       "       [ 112.9,   17.4,   38.6],\n",
       "       [  97.2,    1.5,   30. ],\n",
       "       [ 265.6,   20. ,    0.3],\n",
       "       [  95.7,    1.4,    7.4],\n",
       "       [ 290.7,    4.1,    8.5],\n",
       "       [ 266.9,   43.8,    5. ],\n",
       "       [  74.7,   49.4,   45.7],\n",
       "       [  43.1,   26.7,   35.1],\n",
       "       [ 228. ,   37.7,   32. ],\n",
       "       [ 202.5,   22.3,   31.6],\n",
       "       [ 177. ,   33.4,   38.7],\n",
       "       [ 293.6,   27.7,    1.8],\n",
       "       [ 206.9,    8.4,   26.4],\n",
       "       [  25.1,   25.7,   43.3],\n",
       "       [ 175.1,   22.5,   31.5],\n",
       "       [  89.7,    9.9,   35.7],\n",
       "       [ 239.9,   41.5,   18.5],\n",
       "       [ 227.2,   15.8,   49.9],\n",
       "       [  66.9,   11.7,   36.8],\n",
       "       [ 199.8,    3.1,   34.6],\n",
       "       [ 100.4,    9.6,    3.6],\n",
       "       [ 216.4,   41.7,   39.6],\n",
       "       [ 182.6,   46.2,   58.7],\n",
       "       [ 262.7,   28.8,   15.9],\n",
       "       [ 198.9,   49.4,   60. ],\n",
       "       [   7.3,   28.1,   41.4],\n",
       "       [ 136.2,   19.2,   16.6],\n",
       "       [ 210.8,   49.6,   37.7],\n",
       "       [ 210.7,   29.5,    9.3],\n",
       "       [  53.5,    2. ,   21.4],\n",
       "       [ 261.3,   42.7,   54.7],\n",
       "       [ 239.3,   15.5,   27.3],\n",
       "       [ 102.7,   29.6,    8.4],\n",
       "       [ 131.1,   42.8,   28.9],\n",
       "       [  69. ,    9.3,    0.9],\n",
       "       [  31.5,   24.6,    2.2],\n",
       "       [ 139.3,   14.5,   10.2],\n",
       "       [ 237.4,   27.5,   11. ],\n",
       "       [ 216.8,   43.9,   27.2],\n",
       "       [ 199.1,   30.6,   38.7],\n",
       "       [ 109.8,   14.3,   31.7],\n",
       "       [  26.8,   33. ,   19.3],\n",
       "       [ 129.4,    5.7,   31.3],\n",
       "       [ 213.4,   24.6,   13.1],\n",
       "       [  16.9,   43.7,   89.4],\n",
       "       [  27.5,    1.6,   20.7],\n",
       "       [ 120.5,   28.5,   14.2],\n",
       "       [   5.4,   29.9,    9.4],\n",
       "       [ 116. ,    7.7,   23.1],\n",
       "       [  76.4,   26.7,   22.3],\n",
       "       [ 239.8,    4.1,   36.9],\n",
       "       [  75.3,   20.3,   32.5],\n",
       "       [  68.4,   44.5,   35.6],\n",
       "       [ 213.5,   43. ,   33.8],\n",
       "       [ 193.2,   18.4,   65.7],\n",
       "       [  76.3,   27.5,   16. ],\n",
       "       [ 110.7,   40.6,   63.2],\n",
       "       [  88.3,   25.5,   73.4],\n",
       "       [ 109.8,   47.8,   51.4],\n",
       "       [ 134.3,    4.9,    9.3],\n",
       "       [  28.6,    1.5,   33. ],\n",
       "       [ 217.7,   33.5,   59. ],\n",
       "       [ 250.9,   36.5,   72.3],\n",
       "       [ 107.4,   14. ,   10.9],\n",
       "       [ 163.3,   31.6,   52.9],\n",
       "       [ 197.6,    3.5,    5.9],\n",
       "       [ 184.9,   21. ,   22. ],\n",
       "       [ 289.7,   42.3,   51.2],\n",
       "       [ 135.2,   41.7,   45.9],\n",
       "       [ 222.4,    4.3,   49.8],\n",
       "       [ 296.4,   36.3,  100.9],\n",
       "       [ 280.2,   10.1,   21.4],\n",
       "       [ 187.9,   17.2,   17.9],\n",
       "       [ 238.2,   34.3,    5.3],\n",
       "       [ 137.9,   46.4,   59. ],\n",
       "       [  25. ,   11. ,   29.7],\n",
       "       [  90.4,    0.3,   23.2],\n",
       "       [  13.1,    0.4,   25.6],\n",
       "       [ 255.4,   26.9,    5.5],\n",
       "       [ 225.8,    8.2,   56.5],\n",
       "       [ 241.7,   38. ,   23.2],\n",
       "       [ 175.7,   15.4,    2.4],\n",
       "       [ 209.6,   20.6,   10.7],\n",
       "       [  78.2,   46.8,   34.5],\n",
       "       [  75.1,   35. ,   52.7],\n",
       "       [ 139.2,   14.3,   25.6],\n",
       "       [  76.4,    0.8,   14.8],\n",
       "       [ 125.7,   36.9,   79.2],\n",
       "       [  19.4,   16. ,   22.3],\n",
       "       [ 141.3,   26.8,   46.2],\n",
       "       [  18.8,   21.7,   50.4],\n",
       "       [ 224. ,    2.4,   15.6],\n",
       "       [ 123.1,   34.6,   12.4],\n",
       "       [ 229.5,   32.3,   74.2],\n",
       "       [  87.2,   11.8,   25.9],\n",
       "       [   7.8,   38.9,   50.6],\n",
       "       [  80.2,    0. ,    9.2],\n",
       "       [ 220.3,   49. ,    3.2],\n",
       "       [  59.6,   12. ,   43.1],\n",
       "       [   0.7,   39.6,    8.7],\n",
       "       [ 265.2,    2.9,   43. ],\n",
       "       [   8.4,   27.2,    2.1],\n",
       "       [ 219.8,   33.5,   45.1],\n",
       "       [  36.9,   38.6,   65.6],\n",
       "       [  48.3,   47. ,    8.5],\n",
       "       [  25.6,   39. ,    9.3],\n",
       "       [ 273.7,   28.9,   59.7],\n",
       "       [  43. ,   25.9,   20.5],\n",
       "       [ 184.9,   43.9,    1.7],\n",
       "       [  73.4,   17. ,   12.9],\n",
       "       [ 193.7,   35.4,   75.6],\n",
       "       [ 220.5,   33.2,   37.9],\n",
       "       [ 104.6,    5.7,   34.4],\n",
       "       [  96.2,   14.8,   38.9],\n",
       "       [ 140.3,    1.9,    9. ],\n",
       "       [ 240.1,    7.3,    8.7],\n",
       "       [ 243.2,   49. ,   44.3],\n",
       "       [  38. ,   40.3,   11.9],\n",
       "       [  44.7,   25.8,   20.6],\n",
       "       [ 280.7,   13.9,   37. ],\n",
       "       [ 121. ,    8.4,   48.7],\n",
       "       [ 197.6,   23.3,   14.2],\n",
       "       [ 171.3,   39.7,   37.7],\n",
       "       [ 187.8,   21.1,    9.5],\n",
       "       [   4.1,   11.6,    5.7],\n",
       "       [  93.9,   43.5,   50.5],\n",
       "       [ 149.8,    1.3,   24.3],\n",
       "       [  11.7,   36.9,   45.2],\n",
       "       [ 131.7,   18.4,   34.6],\n",
       "       [ 172.5,   18.1,   30.7],\n",
       "       [  85.7,   35.8,   49.3],\n",
       "       [ 188.4,   18.1,   25.6],\n",
       "       [ 163.5,   36.8,    7.4],\n",
       "       [ 117.2,   14.7,    5.4],\n",
       "       [ 234.5,    3.4,   84.8],\n",
       "       [  17.9,   37.6,   21.6],\n",
       "       [ 206.8,    5.2,   19.4],\n",
       "       [ 215.4,   23.6,   57.6],\n",
       "       [ 284.3,   10.6,    6.4],\n",
       "       [  50. ,   11.6,   18.4],\n",
       "       [ 164.5,   20.9,   47.4],\n",
       "       [  19.6,   20.1,   17. ],\n",
       "       [ 168.4,    7.1,   12.8],\n",
       "       [ 222.4,    3.4,   13.1],\n",
       "       [ 276.9,   48.9,   41.8],\n",
       "       [ 248.4,   30.2,   20.3],\n",
       "       [ 170.2,    7.8,   35.2],\n",
       "       [ 276.7,    2.3,   23.7],\n",
       "       [ 165.6,   10. ,   17.6],\n",
       "       [ 156.6,    2.6,    8.3],\n",
       "       [ 218.5,    5.4,   27.4],\n",
       "       [  56.2,    5.7,   29.7],\n",
       "       [ 287.6,   43. ,   71.8],\n",
       "       [ 253.8,   21.3,   30. ],\n",
       "       [ 205. ,   45.1,   19.6],\n",
       "       [ 139.5,    2.1,   26.6],\n",
       "       [ 191.1,   28.7,   18.2],\n",
       "       [ 286. ,   13.9,    3.7],\n",
       "       [  18.7,   12.1,   23.4],\n",
       "       [  39.5,   41.1,    5.8],\n",
       "       [  75.5,   10.8,    6. ],\n",
       "       [  17.2,    4.1,   31.6],\n",
       "       [ 166.8,   42. ,    3.6],\n",
       "       [ 149.7,   35.6,    6. ],\n",
       "       [  38.2,    3.7,   13.8],\n",
       "       [  94.2,    4.9,    8.1],\n",
       "       [ 177. ,    9.3,    6.4],\n",
       "       [ 283.6,   42. ,   66.2],\n",
       "       [ 232.1,    8.6,    8.7]])"
      ]
     },
     "execution_count": 161,
     "metadata": {},
     "output_type": "execute_result"
    }
   ],
   "source": [
    "X = adver_data[[\"TV\", \"Radio\", \"Newspaper\"]].values\n",
    "y = adver_data.ix[:, 3]\n",
    "X"
   ]
  },
  {
   "cell_type": "markdown",
   "metadata": {},
   "source": [
    "**Отмасштабируйте столбцы матрицы *X*, вычтя из каждого значения среднее по соответствующему столбцу и поделив результат на стандартное отклонение. Для определенности, используйте методы mean и std векторов NumPy (реализация std в Pandas может отличаться). Обратите внимание, что в numpy вызов функции .mean() без параметров возвращает среднее по всем элементам массива, а не по столбцам, как в pandas. Чтобы произвести вычисление по столбцам, необходимо указать параметр axis.**"
   ]
  },
  {
   "cell_type": "code",
   "execution_count": 162,
   "metadata": {
    "collapsed": false
   },
   "outputs": [],
   "source": [
    "means, stds = np.mean(X, axis=0), np.std(X)"
   ]
  },
  {
   "cell_type": "code",
   "execution_count": 163,
   "metadata": {
    "collapsed": false
   },
   "outputs": [
    {
     "data": {
      "text/plain": [
       "array([[  1.08213300e+00,   1.89385489e-01,   5.03507952e-01],\n",
       "       [ -1.33599762e+00,   2.08928570e-01,   1.89515776e-01],\n",
       "       [ -1.69168171e+00,   2.94918129e-01,   5.04810824e-01],\n",
       "       [  5.80755239e-02,   2.34986012e-01,   3.64100637e-01],\n",
       "       [  4.39817050e-01,  -1.62389979e-01,   3.62797765e-01],\n",
       "       [ -1.80242584e+00,   3.34004292e-01,   5.79074534e-01],\n",
       "       [ -1.16662425e+00,   1.24241884e-01,  -9.19045980e-02],\n",
       "       [ -3.49723444e-01,  -4.77372338e-02,  -2.46946378e-01],\n",
       "       [ -1.80372871e+00,  -2.75739852e-01,  -3.85050821e-01],\n",
       "       [  6.87362749e-01,  -2.69225491e-01,  -1.21870656e-01],\n",
       "       [ -1.05457725e+00,  -2.27533584e-01,  -8.27844933e-02],\n",
       "       [  8.81490692e-01,   9.58913867e-03,  -3.45964658e-01],\n",
       "       [ -1.60569215e+00,   1.54207942e-01,   4.60513173e-01],\n",
       "       [ -6.45475411e-01,  -2.04081886e-01,  -3.04272751e-01],\n",
       "       [  7.43386249e-01,   1.25544756e-01,   2.01241625e-01],\n",
       "       [  6.30036376e-01,   3.18369827e-01,   2.91139800e-01],\n",
       "       [ -1.03242843e+00,   1.73751023e-01,   1.08719465e+00],\n",
       "       [  1.75050638e+00,   2.12837187e-01,   3.28923091e-01],\n",
       "       [ -1.01418822e+00,  -3.60113849e-02,  -1.59653947e-01],\n",
       "       [  3.35489566e-03,   8.28626657e-03,  -1.49230971e-01],\n",
       "       [  9.29696960e-01,   5.77954064e-02,   2.97654160e-01],\n",
       "       [  1.17724266e+00,  -2.36653689e-01,  -9.19045980e-02],\n",
       "       [ -1.74379659e+00,  -9.59435016e-02,   2.48145020e-01],\n",
       "       [  1.05868130e+00,  -8.29147805e-02,  -5.67270513e-02],\n",
       "       [ -1.10408639e+00,  -1.38938281e-01,  -1.59653947e-01],\n",
       "       [  1.50947504e+00,  -2.57499642e-01,  -1.44019482e-01],\n",
       "       [ -5.39714768e-02,   7.86413600e-02,  -2.33917657e-01],\n",
       "       [  1.21242021e+00,  -8.55205247e-02,  -9.97218306e-02],\n",
       "       [  1.32577008e+00,   4.99781738e-02,  -9.97218306e-02],\n",
       "       [ -9.95948006e-01,  -9.46406295e-02,   1.33492276e-01],\n",
       "       [  1.90033668e+00,   6.56126390e-02,   1.64761206e-01],\n",
       "       [ -4.44833107e-01,  -7.64004200e-02,   1.04829089e-01],\n",
       "       [ -6.49384027e-01,  -2.83557084e-01,  -7.21791144e-03],\n",
       "       [  1.54465259e+00,  -4.25257454e-02,  -3.94170926e-01],\n",
       "       [ -6.68927109e-01,  -2.84859956e-01,  -3.01667006e-01],\n",
       "       [  1.87167349e+00,  -2.49682410e-01,  -2.87335413e-01],\n",
       "       [  1.56158993e+00,   2.67557815e-01,  -3.32935937e-01],\n",
       "       [ -9.42530250e-01,   3.40518652e-01,   1.97333008e-01],\n",
       "       [ -1.35423783e+00,   4.47666854e-02,   5.92285657e-02],\n",
       "       [  1.05477268e+00,   1.88082617e-01,   1.88395306e-02],\n",
       "       [  7.22540296e-01,  -1.25596871e-02,   1.36280422e-02],\n",
       "       [  3.90307910e-01,   1.32059116e-01,   1.06131961e-01],\n",
       "       [  1.90945678e+00,   5.77954064e-02,  -3.74627844e-01],\n",
       "       [  7.79866668e-01,  -1.93658909e-01,  -5.41213071e-02],\n",
       "       [ -1.58875481e+00,   3.17379644e-02,   1.66064078e-01],\n",
       "       [  3.65553340e-01,  -9.95394286e-03,   1.23251701e-02],\n",
       "       [ -7.47099435e-01,  -1.74115828e-01,   6.70457983e-02],\n",
       "       [  1.20981446e+00,   2.37591756e-01,  -1.57048203e-01],\n",
       "       [  1.04434970e+00,  -9.72463737e-02,   2.52053637e-01],\n",
       "       [ -1.04415427e+00,  -1.50664130e-01,   8.13773915e-02],\n",
       "       [  6.87362749e-01,  -2.62711131e-01,   5.27142052e-02],\n",
       "       [ -6.07692120e-01,  -1.78024444e-01,  -3.51176146e-01],\n",
       "       [  9.03639518e-01,   2.40197501e-01,   1.17857810e-01],\n",
       "       [  4.63268747e-01,   2.98826745e-01,   3.66706382e-01],\n",
       "       [  1.50686930e+00,   7.21269995e-02,  -1.90922878e-01],\n",
       "       [  6.75636900e-01,   3.40518652e-01,   3.83643719e-01],\n",
       "       [ -1.82066605e+00,   6.30068948e-02,   1.41309508e-01],\n",
       "       [ -1.41263908e-01,  -5.29487222e-02,  -1.81802773e-01],\n",
       "       [  8.30678680e-01,   3.43124397e-01,   9.31032404e-02],\n",
       "       [  8.29375808e-01,   8.12471042e-02,  -2.76912436e-01],\n",
       "       [ -1.21873914e+00,  -2.77042724e-01,  -1.19264912e-01],\n",
       "       [  1.48862909e+00,   2.53226222e-01,   3.14591498e-01],\n",
       "       [  1.20199723e+00,  -1.01154990e-01,  -4.23954582e-02],\n",
       "       [ -5.77726062e-01,   8.25499764e-02,  -2.88638285e-01],\n",
       "       [ -2.07710385e-01,   2.54529094e-01,  -2.15495046e-02],\n",
       "       [ -1.01679396e+00,  -1.81933060e-01,  -3.86353693e-01],\n",
       "       [ -1.50537100e+00,   1.74063713e-02,  -3.69416356e-01],\n",
       "       [ -1.00874872e-01,  -1.14183711e-01,  -2.65186588e-01],\n",
       "       [  1.17724266e+00,   5.51896622e-02,  -2.54763611e-01],\n",
       "       [  9.08851006e-01,   2.68860687e-01,  -4.36983303e-02],\n",
       "       [  6.78242644e-01,   9.55786974e-02,   1.06131961e-01],\n",
       "       [ -4.85222142e-01,  -1.16789455e-01,   1.49309143e-02],\n",
       "       [ -1.56660599e+00,   1.26847628e-01,  -1.46625226e-01],\n",
       "       [ -2.29859211e-01,  -2.28836456e-01,   9.71942588e-03],\n",
       "       [  8.64553355e-01,   1.74063713e-02,  -2.27403297e-01],\n",
       "       [ -1.69559032e+00,   2.66254943e-01,   7.66688117e-01],\n",
       "       [ -1.55748588e+00,  -2.82254212e-01,  -1.28385017e-01],\n",
       "       [ -3.45814828e-01,   6.82183832e-02,  -2.13071703e-01],\n",
       "       [ -1.84542062e+00,   8.64585927e-02,  -2.75609564e-01],\n",
       "       [ -4.04444072e-01,  -2.02779014e-01,  -9.71160864e-02],\n",
       "       [ -9.20381424e-01,   4.47666854e-02,  -1.07539063e-01],\n",
       "       [  1.20851159e+00,  -2.49682410e-01,   8.26802636e-02],\n",
       "       [ -9.34713017e-01,  -3.86171291e-02,   2.53538911e-02],\n",
       "       [ -1.02461119e+00,   2.76677919e-01,   6.57429262e-02],\n",
       "       [  8.65856227e-01,   2.57134838e-01,   4.22912284e-02],\n",
       "       [  6.01373190e-01,  -6.33716990e-02,   4.57907429e-01],\n",
       "       [ -9.21684296e-01,   5.51896622e-02,  -1.89620006e-01],\n",
       "       [ -4.73496293e-01,   2.25865908e-01,   4.25335626e-01],\n",
       "       [ -7.65339644e-01,   2.91322202e-02,   5.58228581e-01],\n",
       "       [ -4.85222142e-01,   3.19672699e-01,   2.71596718e-01],\n",
       "       [ -1.66018478e-01,  -2.39259433e-01,  -2.76912436e-01],\n",
       "       [ -1.54315429e+00,  -2.83557084e-01,   3.18682516e-02],\n",
       "       [  9.20576855e-01,   1.33361988e-01,   3.70614998e-01],\n",
       "       [  1.35313039e+00,   1.72448151e-01,   5.43896987e-01],\n",
       "       [ -5.16491073e-01,  -1.20698071e-01,  -2.56066483e-01],\n",
       "       [  2.11814432e-01,   1.08607418e-01,   2.91139800e-01],\n",
       "       [  6.58699563e-01,  -2.57499642e-01,  -3.21210088e-01],\n",
       "       [  4.93234806e-01,  -2.94970244e-02,  -1.11447680e-01],\n",
       "       [  1.85864477e+00,   2.48014733e-01,   2.68990974e-01],\n",
       "       [ -1.54292629e-01,   2.40197501e-01,   1.99938753e-01],\n",
       "       [  9.81811844e-01,  -2.47076665e-01,   2.50750765e-01],\n",
       "       [  1.94593720e+00,   1.69842407e-01,   9.16518409e-01],\n",
       "       [  1.73487192e+00,  -1.71510083e-01,  -1.19264912e-01],\n",
       "       [  5.32320969e-01,  -7.90061642e-02,  -1.64865436e-01],\n",
       "       [  1.18766564e+00,   1.43784965e-01,  -3.29027321e-01],\n",
       "       [ -1.19115082e-01,   3.01432489e-01,   3.70614998e-01],\n",
       "       [ -1.59005768e+00,  -1.59784235e-01,  -1.11265277e-02],\n",
       "       [ -7.37979330e-01,  -2.99191549e-01,  -9.58132143e-02],\n",
       "       [ -1.74509946e+00,  -2.97888677e-01,  -6.45442839e-02],\n",
       "       [  1.41175964e+00,   4.73724296e-02,  -3.26421576e-01],\n",
       "       [  1.02610950e+00,  -1.96264653e-01,   3.38043195e-01],\n",
       "       [  1.23326616e+00,   1.91991233e-01,  -9.58132143e-02],\n",
       "       [  3.73370572e-01,  -1.02457862e-01,  -3.66810611e-01],\n",
       "       [  8.15044215e-01,  -3.47085128e-02,  -2.58672227e-01],\n",
       "       [ -8.96929726e-01,   3.06643978e-01,   5.14113331e-02],\n",
       "       [ -9.37318762e-01,   1.52905070e-01,   2.88534056e-01],\n",
       "       [ -1.02177745e-01,  -1.16789455e-01,  -6.45442839e-02],\n",
       "       [ -9.20381424e-01,  -2.92677189e-01,  -2.05254471e-01],\n",
       "       [ -2.78065478e-01,   1.77659640e-01,   6.33795162e-01],\n",
       "       [ -1.66301852e+00,  -9.46406295e-02,  -1.07539063e-01],\n",
       "       [ -7.48174304e-02,   4.60695575e-02,   2.03847369e-01],\n",
       "       [ -1.67083575e+00,  -2.03769197e-02,   2.58567997e-01],\n",
       "       [  1.00265780e+00,  -2.71831235e-01,  -1.94831494e-01],\n",
       "       [ -3.11940153e-01,   1.47693581e-01,  -2.36523401e-01],\n",
       "       [  1.07431576e+00,   1.17727523e-01,   5.68651557e-01],\n",
       "       [ -7.79671237e-01,  -1.49361258e-01,  -6.06356676e-02],\n",
       "       [ -1.81415169e+00,   2.03717082e-01,   2.61173741e-01],\n",
       "       [ -8.70872284e-01,  -3.03100166e-01,  -2.78215309e-01],\n",
       "       [  9.54451530e-01,   3.35307164e-01,  -3.56387635e-01],\n",
       "       [ -1.13926394e+00,  -1.46755514e-01,   1.63458334e-01],\n",
       "       [ -1.90665561e+00,   2.12837187e-01,  -2.84729669e-01],\n",
       "       [  1.53944110e+00,  -2.65316875e-01,   1.62155462e-01],\n",
       "       [ -1.80633445e+00,   5.12810459e-02,  -3.70719228e-01],\n",
       "       [  9.47937169e-01,   1.33361988e-01,   1.89515776e-01],\n",
       "       [ -1.43501590e+00,   1.99808465e-01,   4.56604557e-01],\n",
       "       [ -1.28648848e+00,   3.09249722e-01,  -2.87335413e-01],\n",
       "       [ -1.58224045e+00,   2.05019954e-01,  -2.76912436e-01],\n",
       "       [  1.65018523e+00,   7.34298716e-02,   3.79735103e-01],\n",
       "       [ -1.35554071e+00,   3.43437086e-02,  -1.30990761e-01],\n",
       "       [  4.93234806e-01,   2.68860687e-01,  -3.75930716e-01],\n",
       "       [ -9.59467587e-01,  -8.16119084e-02,  -2.30009041e-01],\n",
       "       [  6.07887551e-01,   1.58116558e-01,   5.86891767e-01],\n",
       "       [  9.57057274e-01,   1.29453372e-01,   9.57089846e-02],\n",
       "       [ -5.52971492e-01,  -2.28836456e-01,   5.01084610e-02],\n",
       "       [ -6.62412748e-01,  -1.10275095e-01,   1.08737706e-01],\n",
       "       [ -8.78461514e-02,  -2.78345596e-01,  -2.80821053e-01],\n",
       "       [  1.21242021e+00,  -2.07990502e-01,  -2.84729669e-01],\n",
       "       [  1.25280924e+00,   3.35307164e-01,   1.79092799e-01],\n",
       "       [ -1.42068431e+00,   2.21957291e-01,  -2.43037762e-01],\n",
       "       [ -1.33339188e+00,   3.30408365e-02,  -1.29687889e-01],\n",
       "       [  1.74138628e+00,  -1.22000944e-01,   8.39831357e-02],\n",
       "       [ -3.39300467e-01,  -1.93658909e-01,   2.36419172e-01],\n",
       "       [  6.58699563e-01,   4.69033957e-04,  -2.13071703e-01],\n",
       "       [  3.16044200e-01,   2.14140059e-01,   9.31032404e-02],\n",
       "       [  5.31018097e-01,  -2.81941523e-02,  -2.74306692e-01],\n",
       "       [ -1.86235795e+00,  -1.51967002e-01,  -3.23815832e-01],\n",
       "       [ -6.92378807e-01,   2.63649198e-01,   2.59870869e-01],\n",
       "       [  3.59266982e-02,  -2.86162828e-01,  -8.14816212e-02],\n",
       "       [ -1.76333967e+00,   1.77659640e-01,   1.90818648e-01],\n",
       "       [ -1.99893152e-01,  -6.33716990e-02,   5.27142052e-02],\n",
       "       [  3.31678665e-01,  -6.72803153e-02,   1.90219327e-03],\n",
       "       [ -7.99214319e-01,   1.63328047e-01,   2.44236404e-01],\n",
       "       [  5.38835329e-01,  -6.72803153e-02,  -6.45442839e-02],\n",
       "       [  2.14420176e-01,   1.76356768e-01,  -3.01667006e-01],\n",
       "       [ -3.88809607e-01,  -1.11577967e-01,  -3.27724448e-01],\n",
       "       [  1.13945937e+00,  -2.58802514e-01,   7.06756000e-01],\n",
       "       [ -1.68256160e+00,   1.86779744e-01,  -1.16659168e-01],\n",
       "       [  7.78563796e-01,  -2.35350816e-01,  -1.45322354e-01],\n",
       "       [  8.90610797e-01,   4.37765026e-03,   3.52374789e-01],\n",
       "       [  1.78828967e+00,  -1.64995723e-01,  -3.14695727e-01],\n",
       "       [ -1.26433966e+00,  -1.51967002e-01,  -1.58351075e-01],\n",
       "       [  2.27448897e-01,  -3.07998965e-02,   2.19481834e-01],\n",
       "       [ -1.66041278e+00,  -4.12228733e-02,  -1.76591285e-01],\n",
       "       [  2.78260909e-01,  -2.10596246e-01,  -2.31311913e-01],\n",
       "       [  9.81811844e-01,  -2.58802514e-01,  -2.27403297e-01],\n",
       "       [  1.69187714e+00,   3.34004292e-01,   1.46520997e-01],\n",
       "       [  1.32055859e+00,   9.03672090e-02,  -1.33596505e-01],\n",
       "       [  3.01712607e-01,  -2.01476142e-01,   6.05314378e-02],\n",
       "       [  1.68927140e+00,  -2.73134107e-01,  -8.92988538e-02],\n",
       "       [  2.41780490e-01,  -1.72812956e-01,  -1.68774052e-01],\n",
       "       [  1.24522001e-01,  -2.69225491e-01,  -2.89941157e-01],\n",
       "       [  9.30999832e-01,  -2.32745072e-01,  -4.10925861e-02],\n",
       "       [ -1.18356159e+00,  -2.28836456e-01,  -1.11265277e-02],\n",
       "       [  1.83128445e+00,   2.57134838e-01,   5.37382627e-01],\n",
       "       [  1.39091368e+00,  -2.55884081e-02,  -7.21791144e-03],\n",
       "       [  7.55112098e-01,   2.84495152e-01,  -1.42716610e-01],\n",
       "       [ -9.82691283e-02,  -2.75739852e-01,  -5.15155629e-02],\n",
       "       [  5.74012876e-01,   7.08241274e-02,  -1.60956819e-01],\n",
       "       [  1.81043850e+00,  -1.22000944e-01,  -3.49873274e-01],\n",
       "       [ -1.67213863e+00,  -1.45452641e-01,  -9.32074701e-02],\n",
       "       [ -1.40114123e+00,   2.32380268e-01,  -3.22512960e-01],\n",
       "       [ -9.32107273e-01,  -1.62389979e-01,  -3.19907216e-01],\n",
       "       [ -1.69168171e+00,  -2.49682410e-01,   1.36280422e-02],\n",
       "       [  2.57414955e-01,   2.44106117e-01,  -3.51176146e-01],\n",
       "       [  3.46238261e-02,   1.60722302e-01,  -3.19907216e-01],\n",
       "       [ -1.41807857e+00,  -2.54893898e-01,  -2.18283192e-01],\n",
       "       [ -6.88470190e-01,  -2.39259433e-01,  -2.92546902e-01],\n",
       "       [  3.90307910e-01,  -1.81933060e-01,  -3.14695727e-01],\n",
       "       [  1.77916957e+00,   2.44106117e-01,   4.64421789e-01],\n",
       "       [  1.10819044e+00,  -1.91053165e-01,  -2.84729669e-01]])"
      ]
     },
     "execution_count": 163,
     "metadata": {},
     "output_type": "execute_result"
    }
   ],
   "source": [
    "X = (X - means) / stds\n",
    "l = len(X[:,1])\n",
    "X"
   ]
  },
  {
   "cell_type": "markdown",
   "metadata": {},
   "source": [
    "**Добавьте к матрице *X* столбец из единиц, используя методы *hstack*, *ones* и *reshape* библиотеки NumPy. Вектор из единиц нужен для того, чтобы не обрабатывать отдельно коэффициент $w_0$ линейной регрессии.**"
   ]
  },
  {
   "cell_type": "code",
   "execution_count": 164,
   "metadata": {
    "collapsed": false
   },
   "outputs": [
    {
     "data": {
      "text/plain": [
       "array([[  1.00000000e+00,   1.08213300e+00,   1.89385489e-01,\n",
       "          5.03507952e-01],\n",
       "       [  1.00000000e+00,  -1.33599762e+00,   2.08928570e-01,\n",
       "          1.89515776e-01],\n",
       "       [  1.00000000e+00,  -1.69168171e+00,   2.94918129e-01,\n",
       "          5.04810824e-01],\n",
       "       [  1.00000000e+00,   5.80755239e-02,   2.34986012e-01,\n",
       "          3.64100637e-01],\n",
       "       [  1.00000000e+00,   4.39817050e-01,  -1.62389979e-01,\n",
       "          3.62797765e-01],\n",
       "       [  1.00000000e+00,  -1.80242584e+00,   3.34004292e-01,\n",
       "          5.79074534e-01],\n",
       "       [  1.00000000e+00,  -1.16662425e+00,   1.24241884e-01,\n",
       "         -9.19045980e-02],\n",
       "       [  1.00000000e+00,  -3.49723444e-01,  -4.77372338e-02,\n",
       "         -2.46946378e-01],\n",
       "       [  1.00000000e+00,  -1.80372871e+00,  -2.75739852e-01,\n",
       "         -3.85050821e-01],\n",
       "       [  1.00000000e+00,   6.87362749e-01,  -2.69225491e-01,\n",
       "         -1.21870656e-01],\n",
       "       [  1.00000000e+00,  -1.05457725e+00,  -2.27533584e-01,\n",
       "         -8.27844933e-02],\n",
       "       [  1.00000000e+00,   8.81490692e-01,   9.58913867e-03,\n",
       "         -3.45964658e-01],\n",
       "       [  1.00000000e+00,  -1.60569215e+00,   1.54207942e-01,\n",
       "          4.60513173e-01],\n",
       "       [  1.00000000e+00,  -6.45475411e-01,  -2.04081886e-01,\n",
       "         -3.04272751e-01],\n",
       "       [  1.00000000e+00,   7.43386249e-01,   1.25544756e-01,\n",
       "          2.01241625e-01],\n",
       "       [  1.00000000e+00,   6.30036376e-01,   3.18369827e-01,\n",
       "          2.91139800e-01],\n",
       "       [  1.00000000e+00,  -1.03242843e+00,   1.73751023e-01,\n",
       "          1.08719465e+00],\n",
       "       [  1.00000000e+00,   1.75050638e+00,   2.12837187e-01,\n",
       "          3.28923091e-01],\n",
       "       [  1.00000000e+00,  -1.01418822e+00,  -3.60113849e-02,\n",
       "         -1.59653947e-01],\n",
       "       [  1.00000000e+00,   3.35489566e-03,   8.28626657e-03,\n",
       "         -1.49230971e-01],\n",
       "       [  1.00000000e+00,   9.29696960e-01,   5.77954064e-02,\n",
       "          2.97654160e-01],\n",
       "       [  1.00000000e+00,   1.17724266e+00,  -2.36653689e-01,\n",
       "         -9.19045980e-02],\n",
       "       [  1.00000000e+00,  -1.74379659e+00,  -9.59435016e-02,\n",
       "          2.48145020e-01],\n",
       "       [  1.00000000e+00,   1.05868130e+00,  -8.29147805e-02,\n",
       "         -5.67270513e-02],\n",
       "       [  1.00000000e+00,  -1.10408639e+00,  -1.38938281e-01,\n",
       "         -1.59653947e-01],\n",
       "       [  1.00000000e+00,   1.50947504e+00,  -2.57499642e-01,\n",
       "         -1.44019482e-01],\n",
       "       [  1.00000000e+00,  -5.39714768e-02,   7.86413600e-02,\n",
       "         -2.33917657e-01],\n",
       "       [  1.00000000e+00,   1.21242021e+00,  -8.55205247e-02,\n",
       "         -9.97218306e-02],\n",
       "       [  1.00000000e+00,   1.32577008e+00,   4.99781738e-02,\n",
       "         -9.97218306e-02],\n",
       "       [  1.00000000e+00,  -9.95948006e-01,  -9.46406295e-02,\n",
       "          1.33492276e-01],\n",
       "       [  1.00000000e+00,   1.90033668e+00,   6.56126390e-02,\n",
       "          1.64761206e-01],\n",
       "       [  1.00000000e+00,  -4.44833107e-01,  -7.64004200e-02,\n",
       "          1.04829089e-01],\n",
       "       [  1.00000000e+00,  -6.49384027e-01,  -2.83557084e-01,\n",
       "         -7.21791144e-03],\n",
       "       [  1.00000000e+00,   1.54465259e+00,  -4.25257454e-02,\n",
       "         -3.94170926e-01],\n",
       "       [  1.00000000e+00,  -6.68927109e-01,  -2.84859956e-01,\n",
       "         -3.01667006e-01],\n",
       "       [  1.00000000e+00,   1.87167349e+00,  -2.49682410e-01,\n",
       "         -2.87335413e-01],\n",
       "       [  1.00000000e+00,   1.56158993e+00,   2.67557815e-01,\n",
       "         -3.32935937e-01],\n",
       "       [  1.00000000e+00,  -9.42530250e-01,   3.40518652e-01,\n",
       "          1.97333008e-01],\n",
       "       [  1.00000000e+00,  -1.35423783e+00,   4.47666854e-02,\n",
       "          5.92285657e-02],\n",
       "       [  1.00000000e+00,   1.05477268e+00,   1.88082617e-01,\n",
       "          1.88395306e-02],\n",
       "       [  1.00000000e+00,   7.22540296e-01,  -1.25596871e-02,\n",
       "          1.36280422e-02],\n",
       "       [  1.00000000e+00,   3.90307910e-01,   1.32059116e-01,\n",
       "          1.06131961e-01],\n",
       "       [  1.00000000e+00,   1.90945678e+00,   5.77954064e-02,\n",
       "         -3.74627844e-01],\n",
       "       [  1.00000000e+00,   7.79866668e-01,  -1.93658909e-01,\n",
       "         -5.41213071e-02],\n",
       "       [  1.00000000e+00,  -1.58875481e+00,   3.17379644e-02,\n",
       "          1.66064078e-01],\n",
       "       [  1.00000000e+00,   3.65553340e-01,  -9.95394286e-03,\n",
       "          1.23251701e-02],\n",
       "       [  1.00000000e+00,  -7.47099435e-01,  -1.74115828e-01,\n",
       "          6.70457983e-02],\n",
       "       [  1.00000000e+00,   1.20981446e+00,   2.37591756e-01,\n",
       "         -1.57048203e-01],\n",
       "       [  1.00000000e+00,   1.04434970e+00,  -9.72463737e-02,\n",
       "          2.52053637e-01],\n",
       "       [  1.00000000e+00,  -1.04415427e+00,  -1.50664130e-01,\n",
       "          8.13773915e-02],\n",
       "       [  1.00000000e+00,   6.87362749e-01,  -2.62711131e-01,\n",
       "          5.27142052e-02],\n",
       "       [  1.00000000e+00,  -6.07692120e-01,  -1.78024444e-01,\n",
       "         -3.51176146e-01],\n",
       "       [  1.00000000e+00,   9.03639518e-01,   2.40197501e-01,\n",
       "          1.17857810e-01],\n",
       "       [  1.00000000e+00,   4.63268747e-01,   2.98826745e-01,\n",
       "          3.66706382e-01],\n",
       "       [  1.00000000e+00,   1.50686930e+00,   7.21269995e-02,\n",
       "         -1.90922878e-01],\n",
       "       [  1.00000000e+00,   6.75636900e-01,   3.40518652e-01,\n",
       "          3.83643719e-01],\n",
       "       [  1.00000000e+00,  -1.82066605e+00,   6.30068948e-02,\n",
       "          1.41309508e-01],\n",
       "       [  1.00000000e+00,  -1.41263908e-01,  -5.29487222e-02,\n",
       "         -1.81802773e-01],\n",
       "       [  1.00000000e+00,   8.30678680e-01,   3.43124397e-01,\n",
       "          9.31032404e-02],\n",
       "       [  1.00000000e+00,   8.29375808e-01,   8.12471042e-02,\n",
       "         -2.76912436e-01],\n",
       "       [  1.00000000e+00,  -1.21873914e+00,  -2.77042724e-01,\n",
       "         -1.19264912e-01],\n",
       "       [  1.00000000e+00,   1.48862909e+00,   2.53226222e-01,\n",
       "          3.14591498e-01],\n",
       "       [  1.00000000e+00,   1.20199723e+00,  -1.01154990e-01,\n",
       "         -4.23954582e-02],\n",
       "       [  1.00000000e+00,  -5.77726062e-01,   8.25499764e-02,\n",
       "         -2.88638285e-01],\n",
       "       [  1.00000000e+00,  -2.07710385e-01,   2.54529094e-01,\n",
       "         -2.15495046e-02],\n",
       "       [  1.00000000e+00,  -1.01679396e+00,  -1.81933060e-01,\n",
       "         -3.86353693e-01],\n",
       "       [  1.00000000e+00,  -1.50537100e+00,   1.74063713e-02,\n",
       "         -3.69416356e-01],\n",
       "       [  1.00000000e+00,  -1.00874872e-01,  -1.14183711e-01,\n",
       "         -2.65186588e-01],\n",
       "       [  1.00000000e+00,   1.17724266e+00,   5.51896622e-02,\n",
       "         -2.54763611e-01],\n",
       "       [  1.00000000e+00,   9.08851006e-01,   2.68860687e-01,\n",
       "         -4.36983303e-02],\n",
       "       [  1.00000000e+00,   6.78242644e-01,   9.55786974e-02,\n",
       "          1.06131961e-01],\n",
       "       [  1.00000000e+00,  -4.85222142e-01,  -1.16789455e-01,\n",
       "          1.49309143e-02],\n",
       "       [  1.00000000e+00,  -1.56660599e+00,   1.26847628e-01,\n",
       "         -1.46625226e-01],\n",
       "       [  1.00000000e+00,  -2.29859211e-01,  -2.28836456e-01,\n",
       "          9.71942588e-03],\n",
       "       [  1.00000000e+00,   8.64553355e-01,   1.74063713e-02,\n",
       "         -2.27403297e-01],\n",
       "       [  1.00000000e+00,  -1.69559032e+00,   2.66254943e-01,\n",
       "          7.66688117e-01],\n",
       "       [  1.00000000e+00,  -1.55748588e+00,  -2.82254212e-01,\n",
       "         -1.28385017e-01],\n",
       "       [  1.00000000e+00,  -3.45814828e-01,   6.82183832e-02,\n",
       "         -2.13071703e-01],\n",
       "       [  1.00000000e+00,  -1.84542062e+00,   8.64585927e-02,\n",
       "         -2.75609564e-01],\n",
       "       [  1.00000000e+00,  -4.04444072e-01,  -2.02779014e-01,\n",
       "         -9.71160864e-02],\n",
       "       [  1.00000000e+00,  -9.20381424e-01,   4.47666854e-02,\n",
       "         -1.07539063e-01],\n",
       "       [  1.00000000e+00,   1.20851159e+00,  -2.49682410e-01,\n",
       "          8.26802636e-02],\n",
       "       [  1.00000000e+00,  -9.34713017e-01,  -3.86171291e-02,\n",
       "          2.53538911e-02],\n",
       "       [  1.00000000e+00,  -1.02461119e+00,   2.76677919e-01,\n",
       "          6.57429262e-02],\n",
       "       [  1.00000000e+00,   8.65856227e-01,   2.57134838e-01,\n",
       "          4.22912284e-02],\n",
       "       [  1.00000000e+00,   6.01373190e-01,  -6.33716990e-02,\n",
       "          4.57907429e-01],\n",
       "       [  1.00000000e+00,  -9.21684296e-01,   5.51896622e-02,\n",
       "         -1.89620006e-01],\n",
       "       [  1.00000000e+00,  -4.73496293e-01,   2.25865908e-01,\n",
       "          4.25335626e-01],\n",
       "       [  1.00000000e+00,  -7.65339644e-01,   2.91322202e-02,\n",
       "          5.58228581e-01],\n",
       "       [  1.00000000e+00,  -4.85222142e-01,   3.19672699e-01,\n",
       "          2.71596718e-01],\n",
       "       [  1.00000000e+00,  -1.66018478e-01,  -2.39259433e-01,\n",
       "         -2.76912436e-01],\n",
       "       [  1.00000000e+00,  -1.54315429e+00,  -2.83557084e-01,\n",
       "          3.18682516e-02],\n",
       "       [  1.00000000e+00,   9.20576855e-01,   1.33361988e-01,\n",
       "          3.70614998e-01],\n",
       "       [  1.00000000e+00,   1.35313039e+00,   1.72448151e-01,\n",
       "          5.43896987e-01],\n",
       "       [  1.00000000e+00,  -5.16491073e-01,  -1.20698071e-01,\n",
       "         -2.56066483e-01],\n",
       "       [  1.00000000e+00,   2.11814432e-01,   1.08607418e-01,\n",
       "          2.91139800e-01],\n",
       "       [  1.00000000e+00,   6.58699563e-01,  -2.57499642e-01,\n",
       "         -3.21210088e-01],\n",
       "       [  1.00000000e+00,   4.93234806e-01,  -2.94970244e-02,\n",
       "         -1.11447680e-01],\n",
       "       [  1.00000000e+00,   1.85864477e+00,   2.48014733e-01,\n",
       "          2.68990974e-01],\n",
       "       [  1.00000000e+00,  -1.54292629e-01,   2.40197501e-01,\n",
       "          1.99938753e-01],\n",
       "       [  1.00000000e+00,   9.81811844e-01,  -2.47076665e-01,\n",
       "          2.50750765e-01],\n",
       "       [  1.00000000e+00,   1.94593720e+00,   1.69842407e-01,\n",
       "          9.16518409e-01],\n",
       "       [  1.00000000e+00,   1.73487192e+00,  -1.71510083e-01,\n",
       "         -1.19264912e-01],\n",
       "       [  1.00000000e+00,   5.32320969e-01,  -7.90061642e-02,\n",
       "         -1.64865436e-01],\n",
       "       [  1.00000000e+00,   1.18766564e+00,   1.43784965e-01,\n",
       "         -3.29027321e-01],\n",
       "       [  1.00000000e+00,  -1.19115082e-01,   3.01432489e-01,\n",
       "          3.70614998e-01],\n",
       "       [  1.00000000e+00,  -1.59005768e+00,  -1.59784235e-01,\n",
       "         -1.11265277e-02],\n",
       "       [  1.00000000e+00,  -7.37979330e-01,  -2.99191549e-01,\n",
       "         -9.58132143e-02],\n",
       "       [  1.00000000e+00,  -1.74509946e+00,  -2.97888677e-01,\n",
       "         -6.45442839e-02],\n",
       "       [  1.00000000e+00,   1.41175964e+00,   4.73724296e-02,\n",
       "         -3.26421576e-01],\n",
       "       [  1.00000000e+00,   1.02610950e+00,  -1.96264653e-01,\n",
       "          3.38043195e-01],\n",
       "       [  1.00000000e+00,   1.23326616e+00,   1.91991233e-01,\n",
       "         -9.58132143e-02],\n",
       "       [  1.00000000e+00,   3.73370572e-01,  -1.02457862e-01,\n",
       "         -3.66810611e-01],\n",
       "       [  1.00000000e+00,   8.15044215e-01,  -3.47085128e-02,\n",
       "         -2.58672227e-01],\n",
       "       [  1.00000000e+00,  -8.96929726e-01,   3.06643978e-01,\n",
       "          5.14113331e-02],\n",
       "       [  1.00000000e+00,  -9.37318762e-01,   1.52905070e-01,\n",
       "          2.88534056e-01],\n",
       "       [  1.00000000e+00,  -1.02177745e-01,  -1.16789455e-01,\n",
       "         -6.45442839e-02],\n",
       "       [  1.00000000e+00,  -9.20381424e-01,  -2.92677189e-01,\n",
       "         -2.05254471e-01],\n",
       "       [  1.00000000e+00,  -2.78065478e-01,   1.77659640e-01,\n",
       "          6.33795162e-01],\n",
       "       [  1.00000000e+00,  -1.66301852e+00,  -9.46406295e-02,\n",
       "         -1.07539063e-01],\n",
       "       [  1.00000000e+00,  -7.48174304e-02,   4.60695575e-02,\n",
       "          2.03847369e-01],\n",
       "       [  1.00000000e+00,  -1.67083575e+00,  -2.03769197e-02,\n",
       "          2.58567997e-01],\n",
       "       [  1.00000000e+00,   1.00265780e+00,  -2.71831235e-01,\n",
       "         -1.94831494e-01],\n",
       "       [  1.00000000e+00,  -3.11940153e-01,   1.47693581e-01,\n",
       "         -2.36523401e-01],\n",
       "       [  1.00000000e+00,   1.07431576e+00,   1.17727523e-01,\n",
       "          5.68651557e-01],\n",
       "       [  1.00000000e+00,  -7.79671237e-01,  -1.49361258e-01,\n",
       "         -6.06356676e-02],\n",
       "       [  1.00000000e+00,  -1.81415169e+00,   2.03717082e-01,\n",
       "          2.61173741e-01],\n",
       "       [  1.00000000e+00,  -8.70872284e-01,  -3.03100166e-01,\n",
       "         -2.78215309e-01],\n",
       "       [  1.00000000e+00,   9.54451530e-01,   3.35307164e-01,\n",
       "         -3.56387635e-01],\n",
       "       [  1.00000000e+00,  -1.13926394e+00,  -1.46755514e-01,\n",
       "          1.63458334e-01],\n",
       "       [  1.00000000e+00,  -1.90665561e+00,   2.12837187e-01,\n",
       "         -2.84729669e-01],\n",
       "       [  1.00000000e+00,   1.53944110e+00,  -2.65316875e-01,\n",
       "          1.62155462e-01],\n",
       "       [  1.00000000e+00,  -1.80633445e+00,   5.12810459e-02,\n",
       "         -3.70719228e-01],\n",
       "       [  1.00000000e+00,   9.47937169e-01,   1.33361988e-01,\n",
       "          1.89515776e-01],\n",
       "       [  1.00000000e+00,  -1.43501590e+00,   1.99808465e-01,\n",
       "          4.56604557e-01],\n",
       "       [  1.00000000e+00,  -1.28648848e+00,   3.09249722e-01,\n",
       "         -2.87335413e-01],\n",
       "       [  1.00000000e+00,  -1.58224045e+00,   2.05019954e-01,\n",
       "         -2.76912436e-01],\n",
       "       [  1.00000000e+00,   1.65018523e+00,   7.34298716e-02,\n",
       "          3.79735103e-01],\n",
       "       [  1.00000000e+00,  -1.35554071e+00,   3.43437086e-02,\n",
       "         -1.30990761e-01],\n",
       "       [  1.00000000e+00,   4.93234806e-01,   2.68860687e-01,\n",
       "         -3.75930716e-01],\n",
       "       [  1.00000000e+00,  -9.59467587e-01,  -8.16119084e-02,\n",
       "         -2.30009041e-01],\n",
       "       [  1.00000000e+00,   6.07887551e-01,   1.58116558e-01,\n",
       "          5.86891767e-01],\n",
       "       [  1.00000000e+00,   9.57057274e-01,   1.29453372e-01,\n",
       "          9.57089846e-02],\n",
       "       [  1.00000000e+00,  -5.52971492e-01,  -2.28836456e-01,\n",
       "          5.01084610e-02],\n",
       "       [  1.00000000e+00,  -6.62412748e-01,  -1.10275095e-01,\n",
       "          1.08737706e-01],\n",
       "       [  1.00000000e+00,  -8.78461514e-02,  -2.78345596e-01,\n",
       "         -2.80821053e-01],\n",
       "       [  1.00000000e+00,   1.21242021e+00,  -2.07990502e-01,\n",
       "         -2.84729669e-01],\n",
       "       [  1.00000000e+00,   1.25280924e+00,   3.35307164e-01,\n",
       "          1.79092799e-01],\n",
       "       [  1.00000000e+00,  -1.42068431e+00,   2.21957291e-01,\n",
       "         -2.43037762e-01],\n",
       "       [  1.00000000e+00,  -1.33339188e+00,   3.30408365e-02,\n",
       "         -1.29687889e-01],\n",
       "       [  1.00000000e+00,   1.74138628e+00,  -1.22000944e-01,\n",
       "          8.39831357e-02],\n",
       "       [  1.00000000e+00,  -3.39300467e-01,  -1.93658909e-01,\n",
       "          2.36419172e-01],\n",
       "       [  1.00000000e+00,   6.58699563e-01,   4.69033957e-04,\n",
       "         -2.13071703e-01],\n",
       "       [  1.00000000e+00,   3.16044200e-01,   2.14140059e-01,\n",
       "          9.31032404e-02],\n",
       "       [  1.00000000e+00,   5.31018097e-01,  -2.81941523e-02,\n",
       "         -2.74306692e-01],\n",
       "       [  1.00000000e+00,  -1.86235795e+00,  -1.51967002e-01,\n",
       "         -3.23815832e-01],\n",
       "       [  1.00000000e+00,  -6.92378807e-01,   2.63649198e-01,\n",
       "          2.59870869e-01],\n",
       "       [  1.00000000e+00,   3.59266982e-02,  -2.86162828e-01,\n",
       "         -8.14816212e-02],\n",
       "       [  1.00000000e+00,  -1.76333967e+00,   1.77659640e-01,\n",
       "          1.90818648e-01],\n",
       "       [  1.00000000e+00,  -1.99893152e-01,  -6.33716990e-02,\n",
       "          5.27142052e-02],\n",
       "       [  1.00000000e+00,   3.31678665e-01,  -6.72803153e-02,\n",
       "          1.90219327e-03],\n",
       "       [  1.00000000e+00,  -7.99214319e-01,   1.63328047e-01,\n",
       "          2.44236404e-01],\n",
       "       [  1.00000000e+00,   5.38835329e-01,  -6.72803153e-02,\n",
       "         -6.45442839e-02],\n",
       "       [  1.00000000e+00,   2.14420176e-01,   1.76356768e-01,\n",
       "         -3.01667006e-01],\n",
       "       [  1.00000000e+00,  -3.88809607e-01,  -1.11577967e-01,\n",
       "         -3.27724448e-01],\n",
       "       [  1.00000000e+00,   1.13945937e+00,  -2.58802514e-01,\n",
       "          7.06756000e-01],\n",
       "       [  1.00000000e+00,  -1.68256160e+00,   1.86779744e-01,\n",
       "         -1.16659168e-01],\n",
       "       [  1.00000000e+00,   7.78563796e-01,  -2.35350816e-01,\n",
       "         -1.45322354e-01],\n",
       "       [  1.00000000e+00,   8.90610797e-01,   4.37765026e-03,\n",
       "          3.52374789e-01],\n",
       "       [  1.00000000e+00,   1.78828967e+00,  -1.64995723e-01,\n",
       "         -3.14695727e-01],\n",
       "       [  1.00000000e+00,  -1.26433966e+00,  -1.51967002e-01,\n",
       "         -1.58351075e-01],\n",
       "       [  1.00000000e+00,   2.27448897e-01,  -3.07998965e-02,\n",
       "          2.19481834e-01],\n",
       "       [  1.00000000e+00,  -1.66041278e+00,  -4.12228733e-02,\n",
       "         -1.76591285e-01],\n",
       "       [  1.00000000e+00,   2.78260909e-01,  -2.10596246e-01,\n",
       "         -2.31311913e-01],\n",
       "       [  1.00000000e+00,   9.81811844e-01,  -2.58802514e-01,\n",
       "         -2.27403297e-01],\n",
       "       [  1.00000000e+00,   1.69187714e+00,   3.34004292e-01,\n",
       "          1.46520997e-01],\n",
       "       [  1.00000000e+00,   1.32055859e+00,   9.03672090e-02,\n",
       "         -1.33596505e-01],\n",
       "       [  1.00000000e+00,   3.01712607e-01,  -2.01476142e-01,\n",
       "          6.05314378e-02],\n",
       "       [  1.00000000e+00,   1.68927140e+00,  -2.73134107e-01,\n",
       "         -8.92988538e-02],\n",
       "       [  1.00000000e+00,   2.41780490e-01,  -1.72812956e-01,\n",
       "         -1.68774052e-01],\n",
       "       [  1.00000000e+00,   1.24522001e-01,  -2.69225491e-01,\n",
       "         -2.89941157e-01],\n",
       "       [  1.00000000e+00,   9.30999832e-01,  -2.32745072e-01,\n",
       "         -4.10925861e-02],\n",
       "       [  1.00000000e+00,  -1.18356159e+00,  -2.28836456e-01,\n",
       "         -1.11265277e-02],\n",
       "       [  1.00000000e+00,   1.83128445e+00,   2.57134838e-01,\n",
       "          5.37382627e-01],\n",
       "       [  1.00000000e+00,   1.39091368e+00,  -2.55884081e-02,\n",
       "         -7.21791144e-03],\n",
       "       [  1.00000000e+00,   7.55112098e-01,   2.84495152e-01,\n",
       "         -1.42716610e-01],\n",
       "       [  1.00000000e+00,  -9.82691283e-02,  -2.75739852e-01,\n",
       "         -5.15155629e-02],\n",
       "       [  1.00000000e+00,   5.74012876e-01,   7.08241274e-02,\n",
       "         -1.60956819e-01],\n",
       "       [  1.00000000e+00,   1.81043850e+00,  -1.22000944e-01,\n",
       "         -3.49873274e-01],\n",
       "       [  1.00000000e+00,  -1.67213863e+00,  -1.45452641e-01,\n",
       "         -9.32074701e-02],\n",
       "       [  1.00000000e+00,  -1.40114123e+00,   2.32380268e-01,\n",
       "         -3.22512960e-01],\n",
       "       [  1.00000000e+00,  -9.32107273e-01,  -1.62389979e-01,\n",
       "         -3.19907216e-01],\n",
       "       [  1.00000000e+00,  -1.69168171e+00,  -2.49682410e-01,\n",
       "          1.36280422e-02],\n",
       "       [  1.00000000e+00,   2.57414955e-01,   2.44106117e-01,\n",
       "         -3.51176146e-01],\n",
       "       [  1.00000000e+00,   3.46238261e-02,   1.60722302e-01,\n",
       "         -3.19907216e-01],\n",
       "       [  1.00000000e+00,  -1.41807857e+00,  -2.54893898e-01,\n",
       "         -2.18283192e-01],\n",
       "       [  1.00000000e+00,  -6.88470190e-01,  -2.39259433e-01,\n",
       "         -2.92546902e-01],\n",
       "       [  1.00000000e+00,   3.90307910e-01,  -1.81933060e-01,\n",
       "         -3.14695727e-01],\n",
       "       [  1.00000000e+00,   1.77916957e+00,   2.44106117e-01,\n",
       "          4.64421789e-01],\n",
       "       [  1.00000000e+00,   1.10819044e+00,  -1.91053165e-01,\n",
       "         -2.84729669e-01]])"
      ]
     },
     "execution_count": 164,
     "metadata": {},
     "output_type": "execute_result"
    }
   ],
   "source": [
    "X = np.hstack((np.reshape(np.ones(l), (l, 1)), X))\n",
    "X"
   ]
  },
  {
   "cell_type": "markdown",
   "metadata": {},
   "source": [
    "**2. Реализуйте функцию *mserror* - среднеквадратичную ошибку прогноза. Она принимает два аргумента - объекты Series *y* (значения целевого признака) и *y\\_pred* (предсказанные значения). Не используйте в этой функции циклы - тогда она будет вычислительно неэффективной.**"
   ]
  },
  {
   "cell_type": "code",
   "execution_count": 10,
   "metadata": {
    "collapsed": false
   },
   "outputs": [],
   "source": [
    "def mserror(y, y_pred):\n",
    "    return np.sum((y_pred - y) ** 2) / float(l)"
   ]
  },
  {
   "cell_type": "markdown",
   "metadata": {},
   "source": [
    "**Какова среднеквадратичная ошибка прогноза значений Sales, если всегда предсказывать медианное значение Sales по исходной выборке? Запишите ответ в файл '1.txt'.**"
   ]
  },
  {
   "cell_type": "code",
   "execution_count": 11,
   "metadata": {
    "collapsed": false
   },
   "outputs": [
    {
     "name": "stdout",
     "output_type": "stream",
     "text": [
      "28.34575\n"
     ]
    }
   ],
   "source": [
    "answer1 = mserror(y, np.median(y))\n",
    "print(answer1)\n",
    "write_answer_to_file(answer1, '1.txt')"
   ]
  },
  {
   "cell_type": "markdown",
   "metadata": {},
   "source": [
    "**3. Реализуйте функцию *normal_equation*, которая по заданным матрицам (массивам NumPy) *X* и *y* вычисляет вектор весов $w$ согласно нормальному уравнению линейной регрессии.**"
   ]
  },
  {
   "cell_type": "code",
   "execution_count": 12,
   "metadata": {
    "collapsed": true
   },
   "outputs": [],
   "source": [
    "def normal_equation(X, y):\n",
    "    return np.dot(np.linalg.pinv(X), y)"
   ]
  },
  {
   "cell_type": "code",
   "execution_count": 13,
   "metadata": {
    "collapsed": false
   },
   "outputs": [
    {
     "name": "stdout",
     "output_type": "stream",
     "text": [
      "[ 14.0225       3.51259693  14.47033954  -0.07963123]\n"
     ]
    }
   ],
   "source": [
    "norm_eq_weights = normal_equation(X, y)\n",
    "print(norm_eq_weights)"
   ]
  },
  {
   "cell_type": "markdown",
   "metadata": {},
   "source": [
    "**Какие продажи предсказываются линейной моделью с весами, найденными с помощью нормального уравнения, в случае средних инвестиций в рекламу по ТВ, радио и в газетах? (то есть при нулевых значениях масштабированных признаков TV, Radio и Newspaper). Запишите ответ в файл '2.txt'.**"
   ]
  },
  {
   "cell_type": "code",
   "execution_count": 14,
   "metadata": {
    "collapsed": false
   },
   "outputs": [
    {
     "name": "stdout",
     "output_type": "stream",
     "text": [
      "14.0225\n"
     ]
    }
   ],
   "source": [
    "answer2 = np.dot([1, 0, 0, 0], norm_eq_weights)\n",
    "print(answer2)\n",
    "write_answer_to_file(answer2, '2.txt')"
   ]
  },
  {
   "cell_type": "markdown",
   "metadata": {},
   "source": [
    "**4. Напишите функцию *linear_prediction*, которая принимает на вход матрицу *X* и вектор весов линейной модели *w*, а возвращает вектор прогнозов в виде линейной комбинации столбцов матрицы *X* с весами *w*.**"
   ]
  },
  {
   "cell_type": "code",
   "execution_count": 16,
   "metadata": {
    "collapsed": true
   },
   "outputs": [],
   "source": [
    "def linear_prediction(X, w):\n",
    "    return np.dot(X, w)"
   ]
  },
  {
   "cell_type": "markdown",
   "metadata": {},
   "source": [
    "**Какова среднеквадратичная ошибка прогноза значений Sales в виде линейной модели с весами, найденными с помощью нормального уравнения? Запишите ответ в файл '3.txt'.**"
   ]
  },
  {
   "cell_type": "code",
   "execution_count": 17,
   "metadata": {
    "collapsed": false
   },
   "outputs": [
    {
     "name": "stdout",
     "output_type": "stream",
     "text": [
      "2.78412631451\n"
     ]
    }
   ],
   "source": [
    "answer3 = mserror(y, linear_prediction(X, norm_eq_weights))\n",
    "print(answer3)\n",
    "write_answer_to_file(answer3, '3.txt')"
   ]
  },
  {
   "cell_type": "markdown",
   "metadata": {},
   "source": [
    "**5. Напишите функцию *stochastic_gradient_step*, реализующую шаг стохастического градиентного спуска для линейной регрессии. Функция должна принимать матрицу *X*, вектора *y* и *w*, число *train_ind* - индекс объекта обучающей выборки (строки матрицы *X*), по которому считается изменение весов, а также число *$\\eta$* (eta) - шаг градиентного спуска (по умолчанию *eta*=0.01). Результатом будет вектор обновленных весов. Наша реализация функции будет явно написана для данных с 3 признаками, но несложно модифицировать для любого числа признаков, можете это сделать.**"
   ]
  },
  {
   "cell_type": "code",
   "execution_count": 168,
   "metadata": {
    "collapsed": true
   },
   "outputs": [],
   "source": [
    "def stochastic_gradient_step(X, y, w, train_ind, eta=0.01):\n",
    "    tmp = linear_prediction(X[train_ind], w) - y[train_ind]\n",
    "    grad = np.array([0.0 for _ in range(4)])\n",
    "    grad[0] = 2 * tmp / float(l)\n",
    "    for i in range(1, 4):\n",
    "        grad[i] = 2 * X[train_ind][i] * tmp / float(l)\n",
    "    return  w - eta * grad"
   ]
  },
  {
   "cell_type": "code",
   "execution_count": 167,
   "metadata": {
    "collapsed": false,
    "scrolled": false
   },
   "outputs": [],
   "source": [
    "w_tmp = stochastic_gradient_step(X, y, np.array([0, 0, 0, 0]), 3, eta=0.01)\n",
    "print w_tmp\n",
    "mserror(y, linear_prediction(X, w_tmp))\n",
    "#linear_prediction(X, w_tmp.reshape((4, 1)))"
   ]
  },
  {
   "cell_type": "markdown",
   "metadata": {},
   "source": [
    "**6. Напишите функцию *stochastic_gradient_descent*, реализующую стохастический градиентный спуск для линейной регрессии. Функция принимает на вход следующие аргументы:**\n",
    "- X - матрица, соответствующая обучающей выборке\n",
    "- y - вектор значений целевого признака\n",
    "- w_init - вектор начальных весов модели\n",
    "- eta - шаг градиентного спуска (по умолчанию 0.01)\n",
    "- max_iter - максимальное число итераций градиентного спуска (по умолчанию 10000)\n",
    "- max_weight_dist - минимальное евклидово расстояние между векторами весов на соседних итерациях градиентного спуска,\n",
    "при котором алгоритм прекращает работу (по умолчанию 1e-8)\n",
    "- seed - число, используемое для воспроизводимости сгенерированных псевдослучайных чисел (по умолчанию 42)\n",
    "- verbose - флаг печати информации (например, для отладки, по умолчанию False)\n",
    "\n",
    "**На каждой итерации в вектор (список) должно записываться текущее значение среднеквадратичной ошибки. Функция должна возвращать вектор весов $w$, а также вектор (список) ошибок.**"
   ]
  },
  {
   "cell_type": "code",
   "execution_count": 184,
   "metadata": {
    "collapsed": false
   },
   "outputs": [],
   "source": [
    "def stochastic_gradient_descent(X, y, w_init, eta=1e-2, max_iter=1e4,\n",
    "                                min_weight_dist=1e-8, seed=42, verbose=False):\n",
    "    # Инициализируем расстояние между векторами весов на соседних\n",
    "    # итерациях большим числом. \n",
    "    weight_dist = np.inf\n",
    "    # Инициализируем вектор весов\n",
    "    w = w_init\n",
    "    # Сюда будем записывать ошибки на каждой итерации\n",
    "    errors = []\n",
    "    # Счетчик итераций\n",
    "    iter_num = 0\n",
    "    # Будем порождать псевдослучайные числа \n",
    "    # (номер объекта, который будет менять веса), а для воспроизводимости\n",
    "    # этой последовательности псевдослучайных чисел используем seed.\n",
    "    np.random.seed(seed)\n",
    "        \n",
    "    # Основной цикл\n",
    "    while weight_dist > min_weight_dist or iter_num < max_iter: #требовалось с and\n",
    "        # порождаем псевдослучайный \n",
    "        # индекс объекта обучающей выборки\n",
    "        random_ind = np.random.randint(len(X))\n",
    "        \n",
    "        w_temp = stochastic_gradient_step(X, y, w, random_ind, eta)\n",
    "        weight_dist = np.linalg.norm(w - w_temp)\n",
    "        w = w_temp\n",
    "        errors.append(mserror(y, linear_prediction(X, w)))\n",
    "        iter_num += 1\n",
    "    #print iter_num\n",
    "    #print weight_dist\n",
    "    return w, errors"
   ]
  },
  {
   "cell_type": "markdown",
   "metadata": {},
   "source": [
    " **Запустите $10^5$ итераций стохастического градиентного спуска. Укажите вектор начальных весов *w_init*, состоящий из нулей. Оставьте параметры  *eta* и *seed* равными их значениям по умолчанию (*eta*=0.01, *seed*=42 - это важно для проверки ответов).**"
   ]
  },
  {
   "cell_type": "code",
   "execution_count": 188,
   "metadata": {
    "collapsed": false
   },
   "outputs": [
    {
     "name": "stdout",
     "output_type": "stream",
     "text": [
      "CPU times: user 5min 27s, sys: 56 ms, total: 5min 27s\n",
      "Wall time: 5min 27s\n"
     ]
    }
   ],
   "source": [
    "%%time\n",
    "stoch_grad_desc_weights, stoch_errors_by_iter = stochastic_gradient_descent(X, y, w_init=np.array([0, 0, 0, 0]), \n",
    "                                                eta=1e-2, max_iter=1e6, min_weight_dist=1e-9, seed=42, \n",
    "                                                verbose=False) #требовалось max_iter=1e5"
   ]
  },
  {
   "cell_type": "code",
   "execution_count": 189,
   "metadata": {
    "collapsed": false
   },
   "outputs": [
    {
     "data": {
      "text/plain": [
       "1183323"
      ]
     },
     "execution_count": 189,
     "metadata": {},
     "output_type": "execute_result"
    }
   ],
   "source": [
    "len(stoch_errors_by_iter)"
   ]
  },
  {
   "cell_type": "markdown",
   "metadata": {},
   "source": [
    "**Посмотрим, чему равна ошибка на первых 50 итерациях стохастического градиентного спуска. Видим, что ошибка не обязательно уменьшается на каждой итерации.**"
   ]
  },
  {
   "cell_type": "code",
   "execution_count": 45,
   "metadata": {
    "collapsed": false
   },
   "outputs": [
    {
     "name": "stdout",
     "output_type": "stream",
     "text": [
      "Populating the interactive namespace from numpy and matplotlib\n"
     ]
    },
    {
     "data": {
      "text/plain": [
       "<matplotlib.text.Text at 0x7f0bcec55210>"
      ]
     },
     "execution_count": 45,
     "metadata": {},
     "output_type": "execute_result"
    },
    {
     "data": {
      "image/png": "[encoded data removed]",
      "text/plain": [
       "<matplotlib.figure.Figure at 0x7f0bce826190>"
      ]
     },
     "metadata": {},
     "output_type": "display_data"
    }
   ],
   "source": [
    "%pylab inline\n",
    "plot(range(50), stoch_errors_by_iter[:50])\n",
    "xlabel('Iteration number')\n",
    "ylabel('MSE')"
   ]
  },
  {
   "cell_type": "markdown",
   "metadata": {},
   "source": [
    "**Теперь посмотрим на зависимость ошибки от номера итерации для $10^5$ итераций стохастического градиентного спуска. Видим, что алгоритм сходится.**"
   ]
  },
  {
   "cell_type": "code",
   "execution_count": 183,
   "metadata": {
    "collapsed": false
   },
   "outputs": [
    {
     "name": "stdout",
     "output_type": "stream",
     "text": [
      "Populating the interactive namespace from numpy and matplotlib\n"
     ]
    },
    {
     "data": {
      "text/plain": [
       "<matplotlib.text.Text at 0x7f08e1333f90>"
      ]
     },
     "execution_count": 183,
     "metadata": {},
     "output_type": "execute_result"
    },
    {
     "data": {
      "image/png": "[encoded data removed]",
      "text/plain": [
       "<matplotlib.figure.Figure at 0x7f08e1361f90>"
      ]
     },
     "metadata": {},
     "output_type": "display_data"
    }
   ],
   "source": [
    "%pylab inline\n",
    "plot(range(len(stoch_errors_by_iter)), stoch_errors_by_iter)\n",
    "xlabel('Iteration number')\n",
    "ylabel('MSE')"
   ]
  },
  {
   "cell_type": "markdown",
   "metadata": {},
   "source": [
    "**Посмотрим на вектор весов, к которому сошелся метод.**"
   ]
  },
  {
   "cell_type": "code",
   "execution_count": 127,
   "metadata": {
    "collapsed": false
   },
   "outputs": [
    {
     "data": {
      "text/plain": [
       "array([ 13.97639021,   3.56579059,   3.12422449,   1.24842219])"
      ]
     },
     "execution_count": 127,
     "metadata": {},
     "output_type": "execute_result"
    }
   ],
   "source": [
    "stoch_grad_desc_weights"
   ]
  },
  {
   "cell_type": "markdown",
   "metadata": {},
   "source": [
    "**Посмотрим на среднеквадратичную ошибку на последней итерации.**"
   ]
  },
  {
   "cell_type": "code",
   "execution_count": 190,
   "metadata": {
    "collapsed": false,
    "scrolled": true
   },
   "outputs": [
    {
     "data": {
      "text/plain": [
       "2.7884605503301487"
      ]
     },
     "execution_count": 190,
     "metadata": {},
     "output_type": "execute_result"
    }
   ],
   "source": [
    "stoch_errors_by_iter[-1]"
   ]
  },
  {
   "cell_type": "markdown",
   "metadata": {},
   "source": [
    "**Какова среднеквадратичная ошибка прогноза значений Sales в виде линейной модели с весами, найденными с помощью градиентного спуска? Запишите ответ в файл '4.txt'.**"
   ]
  },
  {
   "cell_type": "code",
   "execution_count": 175,
   "metadata": {
    "collapsed": false
   },
   "outputs": [
    {
     "name": "stdout",
     "output_type": "stream",
     "text": [
      "6.16895585182\n"
     ]
    }
   ],
   "source": [
    "answer4 = mserror(y, linear_prediction(X, stoch_grad_desc_weights))\n",
    "print(answer4)\n",
    "#write_answer_to_file(answer4, '4.txt')"
   ]
  },
  {
   "cell_type": "markdown",
   "metadata": {},
   "source": [
    "**Ответами к заданию будут текстовые файлы, полученные в ходе этого решения. Обратите внимание, что отправленные файлы не должны содержать пустую строку в конце. Данный нюанс является ограничением платформы Coursera. Мы работаем над исправлением этого ограничения.**"
   ]
  }
 ],
 "metadata": {
  "anaconda-cloud": {},
  "kernelspec": {
   "display_name": "Python 2",
   "language": "python",
   "name": "python2"
  },
  "language_info": {
   "codemirror_mode": {
    "name": "ipython",
    "version": 2
   },
   "file_extension": ".py",
   "mimetype": "text/x-python",
   "name": "python",
   "nbconvert_exporter": "python",
   "pygments_lexer": "ipython2",
   "version": "2.7.12"
  }
 },
 "nbformat": 4,
 "nbformat_minor": 0
}
